{
  "nbformat": 4,
  "nbformat_minor": 0,
  "metadata": {
    "colab": {
      "provenance": [],
      "authorship_tag": "ABX9TyMbm8t0BNhmRgpLji7Euqmq",
      "include_colab_link": true
    },
    "kernelspec": {
      "name": "python3",
      "display_name": "Python 3"
    },
    "language_info": {
      "name": "python"
    }
  },
  "cells": [
    {
      "cell_type": "markdown",
      "metadata": {
        "id": "view-in-github",
        "colab_type": "text"
      },
      "source": [
        "<a href=\"https://colab.research.google.com/github/se-an-alytics/sports_analysis/blob/main/basketball_projects/nba_shot_chart.ipynb\" target=\"_parent\"><img src=\"https://colab.research.google.com/assets/colab-badge.svg\" alt=\"Open In Colab\"/></a>"
      ]
    },
    {
      "cell_type": "code",
      "execution_count": null,
      "metadata": {
        "colab": {
          "base_uri": "https://localhost:8080/"
        },
        "id": "e7nR3giVxUEQ",
        "outputId": "16716560-fb6a-45ab-c629-28ac5f22b136"
      },
      "outputs": [
        {
          "output_type": "stream",
          "name": "stdout",
          "text": [
            "Looking in indexes: https://pypi.org/simple, https://us-python.pkg.dev/colab-wheels/public/simple/\n",
            "Collecting nba_api\n",
            "  Downloading nba_api-1.1.14-py3-none-any.whl (254 kB)\n",
            "\u001b[2K     \u001b[90m━━━━━━━━━━━━━━━━━━━━━━━━━━━━━━━━━━━━━━━\u001b[0m \u001b[32m254.9/254.9 KB\u001b[0m \u001b[31m6.6 MB/s\u001b[0m eta \u001b[36m0:00:00\u001b[0m\n",
            "\u001b[?25hRequirement already satisfied: numpy<2.0.0,>=1.22.2 in /usr/local/lib/python3.9/dist-packages (from nba_api) (1.22.4)\n",
            "Requirement already satisfied: requests in /usr/local/lib/python3.9/dist-packages (from nba_api) (2.27.1)\n",
            "Requirement already satisfied: charset-normalizer~=2.0.0 in /usr/local/lib/python3.9/dist-packages (from requests->nba_api) (2.0.12)\n",
            "Requirement already satisfied: idna<4,>=2.5 in /usr/local/lib/python3.9/dist-packages (from requests->nba_api) (3.4)\n",
            "Requirement already satisfied: certifi>=2017.4.17 in /usr/local/lib/python3.9/dist-packages (from requests->nba_api) (2022.12.7)\n",
            "Requirement already satisfied: urllib3<1.27,>=1.21.1 in /usr/local/lib/python3.9/dist-packages (from requests->nba_api) (1.26.15)\n",
            "Installing collected packages: nba_api\n",
            "Successfully installed nba_api-1.1.14\n"
          ]
        }
      ],
      "source": [
        "!pip install nba_api"
      ]
    },
    {
      "cell_type": "markdown",
      "source": [
        "# Import Packages"
      ],
      "metadata": {
        "id": "icrRkzZj1onq"
      }
    },
    {
      "cell_type": "code",
      "source": [
        "# Import packages\n",
        "from nba_api.stats.endpoints import shotchartdetail\n",
        "import json\n",
        "import requests\n",
        "import pandas as pd\n",
        "import matplotlib as mpl\n",
        "import matplotlib.pyplot as plt"
      ],
      "metadata": {
        "id": "XTPtVdOTxfzv"
      },
      "execution_count": null,
      "outputs": []
    },
    {
      "cell_type": "markdown",
      "source": [
        "# Load Players and Teams to get Respective ID Values"
      ],
      "metadata": {
        "id": "2i4_nbP51uik"
      }
    },
    {
      "cell_type": "code",
      "source": [
        "# Load teams file\n",
        "teams = json.loads(requests.get('https://raw.githubusercontent.com/bttmly/nba/master/data/teams.json').text)\n",
        "# Load players file\n",
        "players = json.loads(requests.get('https://raw.githubusercontent.com/bttmly/nba/master/data/players.json').text)"
      ],
      "metadata": {
        "id": "dWdcOWGRxj7b"
      },
      "execution_count": null,
      "outputs": []
    },
    {
      "cell_type": "code",
      "source": [
        "# Get team ID based on team name\n",
        "def get_team_id(queried_team):\n",
        "  for team in teams:\n",
        "    if team['teamName'] == queried_team:\n",
        "      return team['teamId']\n",
        "  return -1"
      ],
      "metadata": {
        "id": "mq0Feonax8L4"
      },
      "execution_count": null,
      "outputs": []
    },
    {
      "cell_type": "code",
      "source": [
        "# Get player ID based on player name\n",
        "def get_player_id(first, last):\n",
        "  for player in players:\n",
        "    if player['firstName'] == first and player['lastName'] == last:\n",
        "      return player['playerId']\n",
        "  return -1"
      ],
      "metadata": {
        "id": "J-yvR7laxpmA"
      },
      "execution_count": null,
      "outputs": []
    },
    {
      "cell_type": "code",
      "source": [
        "# Get the team ID number for the Knicks\n",
        "get_team_id('New York Knicks')"
      ],
      "metadata": {
        "colab": {
          "base_uri": "https://localhost:8080/"
        },
        "id": "xHzgLyVSxrdx",
        "outputId": "9291dc03-c811-46a1-a624-2b24c30f40e2"
      },
      "execution_count": null,
      "outputs": [
        {
          "output_type": "execute_result",
          "data": {
            "text/plain": [
              "1610612752"
            ]
          },
          "metadata": {},
          "execution_count": 19
        }
      ]
    },
    {
      "cell_type": "code",
      "source": [
        "# Get the player ID number for LeBron James\n",
        "get_player_id('LeBron', 'James')"
      ],
      "metadata": {
        "colab": {
          "base_uri": "https://localhost:8080/"
        },
        "id": "1R4pWqZRxySm",
        "outputId": "8bbffaa2-352d-4240-f1f6-baa7c1136126"
      },
      "execution_count": null,
      "outputs": [
        {
          "output_type": "execute_result",
          "data": {
            "text/plain": [
              "-1"
            ]
          },
          "metadata": {},
          "execution_count": 55
        }
      ]
    },
    {
      "cell_type": "markdown",
      "source": [
        "# Acquire Shot Chart Data"
      ],
      "metadata": {
        "id": "BoXa1U8u17Zv"
      }
    },
    {
      "cell_type": "code",
      "source": [
        "# Create JSON request\n",
        "shot_json = shotchartdetail.ShotChartDetail(\n",
        "            team_id = get_team_id('Golden State Warriors'),\n",
        "            player_id = get_player_id('Stephen', 'Curry'),\n",
        "            context_measure_simple = 'PTS',\n",
        "            season_nullable = '2015-16',\n",
        "            season_type_all_star = 'Regular Season')"
      ],
      "metadata": {
        "id": "wUK4ARnmyj3T"
      },
      "execution_count": null,
      "outputs": []
    },
    {
      "cell_type": "code",
      "source": [
        "# Load data into a Python dictionary\n",
        "shot_data = json.loads(shot_json.get_json())"
      ],
      "metadata": {
        "id": "f7rIwkmKympb"
      },
      "execution_count": null,
      "outputs": []
    },
    {
      "cell_type": "markdown",
      "source": [
        "# Transforming Shot Chart Data into pandas DF"
      ],
      "metadata": {
        "id": "k7cMtqA-2Auh"
      }
    },
    {
      "cell_type": "code",
      "source": [
        "# Get the relevant data from our dictionary\n",
        "relevant_data = shot_data['resultSets'][0]"
      ],
      "metadata": {
        "id": "qg_9NAHVyo04"
      },
      "execution_count": null,
      "outputs": []
    },
    {
      "cell_type": "code",
      "source": [
        "# Get the headers and row data\n",
        "headers = relevant_data['headers']\n",
        "rows = relevant_data['rowSet']"
      ],
      "metadata": {
        "id": "ajleOyI4yqu4"
      },
      "execution_count": null,
      "outputs": []
    },
    {
      "cell_type": "code",
      "source": [
        "# Create pandas DataFrame\n",
        "curry_data = pd.DataFrame(rows)\n",
        "curry_data.columns = headers"
      ],
      "metadata": {
        "id": "FgAmfDdcysjf"
      },
      "execution_count": null,
      "outputs": []
    },
    {
      "cell_type": "code",
      "source": [
        "# Print the columns of our DataFrame\n",
        "curry_data.columns"
      ],
      "metadata": {
        "colab": {
          "base_uri": "https://localhost:8080/"
        },
        "id": "Y-glmYAjyusS",
        "outputId": "0444f90e-dba5-4b19-957b-e1f7cfcf1355"
      },
      "execution_count": null,
      "outputs": [
        {
          "output_type": "execute_result",
          "data": {
            "text/plain": [
              "Index(['GRID_TYPE', 'GAME_ID', 'GAME_EVENT_ID', 'PLAYER_ID', 'PLAYER_NAME',\n",
              "       'TEAM_ID', 'TEAM_NAME', 'PERIOD', 'MINUTES_REMAINING',\n",
              "       'SECONDS_REMAINING', 'EVENT_TYPE', 'ACTION_TYPE', 'SHOT_TYPE',\n",
              "       'SHOT_ZONE_BASIC', 'SHOT_ZONE_AREA', 'SHOT_ZONE_RANGE', 'SHOT_DISTANCE',\n",
              "       'LOC_X', 'LOC_Y', 'SHOT_ATTEMPTED_FLAG', 'SHOT_MADE_FLAG', 'GAME_DATE',\n",
              "       'HTM', 'VTM'],\n",
              "      dtype='object')"
            ]
          },
          "metadata": {},
          "execution_count": 26
        }
      ]
    },
    {
      "cell_type": "markdown",
      "source": [
        "# Create Function to Draw Court (Lines + Basic Shapes)"
      ],
      "metadata": {
        "id": "-XI0SE2S2IMp"
      }
    },
    {
      "cell_type": "code",
      "source": [
        "def create_court(ax, color):\n",
        "    \n",
        "    # Short corner 3PT lines\n",
        "    ax.plot([-220, -220], [0, 140], linewidth=2, color=color)\n",
        "    ax.plot([220, 220], [0, 140], linewidth=2, color=color)\n",
        "    \n",
        "    # 3PT Arc\n",
        "    ax.add_artist(mpl.patches.Arc((0, 140), 440, 315, theta1=0, theta2=180, facecolor='none', edgecolor=color, lw=2))\n",
        "    \n",
        "    # Lane and Key\n",
        "    ax.plot([-80, -80], [0, 190], linewidth=2, color=color)\n",
        "    ax.plot([80, 80], [0, 190], linewidth=2, color=color)\n",
        "    ax.plot([-60, -60], [0, 190], linewidth=2, color=color)\n",
        "    ax.plot([60, 60], [0, 190], linewidth=2, color=color)\n",
        "    ax.plot([-80, 80], [190, 190], linewidth=2, color=color)\n",
        "    ax.add_artist(mpl.patches.Circle((0, 190), 60, facecolor='none', edgecolor=color, lw=2))\n",
        "    \n",
        "    # Rim\n",
        "    ax.add_artist(mpl.patches.Circle((0, 60), 15, facecolor='none', edgecolor=color, lw=2))\n",
        "    \n",
        "    # Backboard\n",
        "    ax.plot([-30, 30], [40, 40], linewidth=2, color=color)\n",
        "    \n",
        "    # Remove ticks\n",
        "    ax.set_xticks([])\n",
        "    ax.set_yticks([])\n",
        "    \n",
        "    # Set axis limits\n",
        "    ax.set_xlim(-250, 250)\n",
        "    ax.set_ylim(0, 470)\n",
        "    \n",
        "    return ax"
      ],
      "metadata": {
        "id": "gLMqne_g0wer"
      },
      "execution_count": null,
      "outputs": []
    },
    {
      "cell_type": "markdown",
      "source": [
        "# Insert Plot Parameters"
      ],
      "metadata": {
        "id": "Pe-WsEWR2PJw"
      }
    },
    {
      "cell_type": "code",
      "source": [
        "mpl.rcParams['font.family'] = 'Avenir'\n",
        "mpl.rcParams['font.size'] = 18\n",
        "mpl.rcParams['axes.linewidth'] = 2"
      ],
      "metadata": {
        "id": "NgQ9fCss0JcY"
      },
      "execution_count": null,
      "outputs": []
    },
    {
      "cell_type": "markdown",
      "source": [
        "# Plot Shot Chart"
      ],
      "metadata": {
        "id": "BA9cE_sw2SAr"
      }
    },
    {
      "cell_type": "code",
      "source": [
        "# Create figure and axes\n",
        "fig = plt.figure(figsize=(4, 3.76))\n",
        "ax = fig.add_axes([0, 0, 1, 1])\n",
        "\n",
        "# Draw court\n",
        "ax = create_court(ax, 'black')\n",
        "\n",
        "# Plot hexbin of shots\n",
        "ax.hexbin(curry_data['LOC_X'], curry_data['LOC_Y'] + 60, gridsize=(30, 30), extent=(-300, 300, 0, 940), bins='log', cmap='Blues')\n",
        "\n",
        "# Annotate player name and season\n",
        "ax.text(0, 1.05, 'Stephen Curry\\n2015-16 Regular Season', transform=ax.transAxes, ha='left', va='baseline')\n",
        "\n",
        "# Save and show figure\n",
        "plt.savefig('ShotChart.png', dpi=300, bbox_inches='tight')\n",
        "plt.show()"
      ],
      "metadata": {
        "colab": {
          "base_uri": "https://localhost:8080/",
          "height": 662
        },
        "id": "9DnDtuFh01M6",
        "outputId": "ce4eef99-f473-4e21-bf92-476a5cf0a3f1"
      },
      "execution_count": null,
      "outputs": [
        {
          "output_type": "stream",
          "name": "stderr",
          "text": [
            "WARNING:matplotlib.font_manager:findfont: Font family 'Avenir' not found.\n",
            "WARNING:matplotlib.font_manager:findfont: Font family 'Avenir' not found.\n",
            "WARNING:matplotlib.font_manager:findfont: Font family 'Avenir' not found.\n",
            "WARNING:matplotlib.font_manager:findfont: Font family 'Avenir' not found.\n",
            "WARNING:matplotlib.font_manager:findfont: Font family 'Avenir' not found.\n",
            "WARNING:matplotlib.font_manager:findfont: Font family 'Avenir' not found.\n",
            "WARNING:matplotlib.font_manager:findfont: Font family 'Avenir' not found.\n",
            "WARNING:matplotlib.font_manager:findfont: Font family 'Avenir' not found.\n",
            "WARNING:matplotlib.font_manager:findfont: Font family 'Avenir' not found.\n",
            "WARNING:matplotlib.font_manager:findfont: Font family 'Avenir' not found.\n",
            "WARNING:matplotlib.font_manager:findfont: Font family 'Avenir' not found.\n",
            "WARNING:matplotlib.font_manager:findfont: Font family 'Avenir' not found.\n",
            "WARNING:matplotlib.font_manager:findfont: Font family 'Avenir' not found.\n",
            "WARNING:matplotlib.font_manager:findfont: Font family 'Avenir' not found.\n",
            "WARNING:matplotlib.font_manager:findfont: Font family 'Avenir' not found.\n",
            "WARNING:matplotlib.font_manager:findfont: Font family 'Avenir' not found.\n",
            "WARNING:matplotlib.font_manager:findfont: Font family 'Avenir' not found.\n",
            "WARNING:matplotlib.font_manager:findfont: Font family 'Avenir' not found.\n"
          ]
        },
        {
          "output_type": "display_data",
          "data": {
            "text/plain": [
              "<Figure size 288x270.72 with 1 Axes>"
            ],
            "image/png": "[encoded data removed]"
          },
          "metadata": {}
        }
      ]
    },
    {
      "cell_type": "markdown",
      "source": [
        "# James Harden 2017-2018 Shot Chart (MVP Season w/Houston Rockets)"
      ],
      "metadata": {
        "id": "2NQLX1b41ayb"
      }
    },
    {
      "cell_type": "code",
      "source": [
        "shot_json = shotchartdetail.ShotChartDetail(\n",
        "            team_id = get_team_id('Houston Rockets'),\n",
        "            player_id = get_player_id('James', 'Harden'),\n",
        "            context_measure_simple = 'PTS',\n",
        "            season_nullable = '2017-18',\n",
        "            season_type_all_star = 'Regular Season')"
      ],
      "metadata": {
        "id": "37v56ej705QQ"
      },
      "execution_count": null,
      "outputs": []
    },
    {
      "cell_type": "code",
      "source": [
        "shot_data = json.loads(shot_json.get_json())"
      ],
      "metadata": {
        "id": "bwLWfg8z0-N-"
      },
      "execution_count": null,
      "outputs": []
    },
    {
      "cell_type": "code",
      "source": [
        "relevant_data = shot_data['resultSets'][0]\n",
        "headers = relevant_data['headers']\n",
        "rows = relevant_data['rowSet']\n",
        "\n",
        "# Create pandas DataFrame\n",
        "harden_data = pd.DataFrame(rows)\n",
        "harden_data.columns = headers"
      ],
      "metadata": {
        "id": "eWXXzkAj1AlS"
      },
      "execution_count": null,
      "outputs": []
    },
    {
      "cell_type": "code",
      "source": [
        "# Create figure and axes\n",
        "fig = plt.figure(figsize=(4, 3.76))\n",
        "ax = fig.add_axes([0, 0, 1, 1])\n",
        "\n",
        "# Draw court\n",
        "ax = create_court(ax, 'black')\n",
        "\n",
        "# Plot hexbin of shots\n",
        "ax.hexbin(harden_data['LOC_X'], harden_data['LOC_Y'] + 60, gridsize=(30, 30), extent=(-300, 300, 0, 940), bins='log', cmap='Blues')\n",
        "\n",
        "# Annotate player name and season\n",
        "ax.text(0, 1.05, 'James Harden\\n2017-18 Regular Season', transform=ax.transAxes, ha='left', va='baseline')\n",
        "\n",
        "# Save and show figure\n",
        "plt.savefig('ShotChart.png', dpi=300, bbox_inches='tight')\n",
        "plt.show()"
      ],
      "metadata": {
        "colab": {
          "base_uri": "https://localhost:8080/",
          "height": 662
        },
        "id": "sw21qSt11C6r",
        "outputId": "c78ac32f-5159-43f6-9e08-e00a8de574ad"
      },
      "execution_count": null,
      "outputs": [
        {
          "output_type": "stream",
          "name": "stderr",
          "text": [
            "WARNING:matplotlib.font_manager:findfont: Font family 'Avenir' not found.\n",
            "WARNING:matplotlib.font_manager:findfont: Font family 'Avenir' not found.\n",
            "WARNING:matplotlib.font_manager:findfont: Font family 'Avenir' not found.\n",
            "WARNING:matplotlib.font_manager:findfont: Font family 'Avenir' not found.\n",
            "WARNING:matplotlib.font_manager:findfont: Font family 'Avenir' not found.\n",
            "WARNING:matplotlib.font_manager:findfont: Font family 'Avenir' not found.\n",
            "WARNING:matplotlib.font_manager:findfont: Font family 'Avenir' not found.\n",
            "WARNING:matplotlib.font_manager:findfont: Font family 'Avenir' not found.\n",
            "WARNING:matplotlib.font_manager:findfont: Font family 'Avenir' not found.\n",
            "WARNING:matplotlib.font_manager:findfont: Font family 'Avenir' not found.\n",
            "WARNING:matplotlib.font_manager:findfont: Font family 'Avenir' not found.\n",
            "WARNING:matplotlib.font_manager:findfont: Font family 'Avenir' not found.\n",
            "WARNING:matplotlib.font_manager:findfont: Font family 'Avenir' not found.\n",
            "WARNING:matplotlib.font_manager:findfont: Font family 'Avenir' not found.\n",
            "WARNING:matplotlib.font_manager:findfont: Font family 'Avenir' not found.\n",
            "WARNING:matplotlib.font_manager:findfont: Font family 'Avenir' not found.\n",
            "WARNING:matplotlib.font_manager:findfont: Font family 'Avenir' not found.\n",
            "WARNING:matplotlib.font_manager:findfont: Font family 'Avenir' not found.\n"
          ]
        },
        {
          "output_type": "display_data",
          "data": {
            "text/plain": [
              "<Figure size 288x270.72 with 1 Axes>"
            ],
            "image/png": "[encoded data removed]"
          },
          "metadata": {}
        }
      ]
    },
    {
      "cell_type": "code",
      "source": [
        "shot_json = shotchartdetail.ShotChartDetail(\n",
        "            team_id = get_team_id('Cleveland Cavaliers'),\n",
        "            player_id = get_player_id('LeBron', 'James'),\n",
        "            context_measure_simple = 'PTS',\n",
        "            season_nullable = '2017-18',\n",
        "            season_type_all_star = 'Regular Season')"
      ],
      "metadata": {
        "id": "Jdtfn0R82Xsz"
      },
      "execution_count": null,
      "outputs": []
    },
    {
      "cell_type": "code",
      "source": [
        "shot_data = json.loads(shot_json.get_json())"
      ],
      "metadata": {
        "id": "waL71j0J2gUE"
      },
      "execution_count": null,
      "outputs": []
    },
    {
      "cell_type": "code",
      "source": [
        "relevant_data = shot_data['resultSets'][0]\n",
        "headers = relevant_data['headers']\n",
        "rows = relevant_data['rowSet']\n",
        "\n",
        "# Create pandas DataFrame\n",
        "lbj_data = pd.DataFrame(rows)\n",
        "lbj_data.columns = headers"
      ],
      "metadata": {
        "id": "7G4wOLgy2iwo"
      },
      "execution_count": null,
      "outputs": []
    },
    {
      "cell_type": "code",
      "source": [
        "# Create figure and axes\n",
        "fig = plt.figure(figsize=(4, 3.76))\n",
        "ax = fig.add_axes([0, 0, 1, 1])\n",
        "\n",
        "# Draw court\n",
        "ax = create_court(ax, 'black')\n",
        "\n",
        "# Plot hexbin of shots\n",
        "ax.hexbin(lbj_data['LOC_X'], lbj_data['LOC_Y'] + 60, gridsize=(30, 30), extent=(-300, 300, 0, 940), bins='log', cmap='Blues')\n",
        "\n",
        "# Annotate player name and season\n",
        "ax.text(0, 1.05, 'LeBron James\\n2017-18 Regular Season', transform=ax.transAxes, ha='left', va='baseline')\n",
        "\n",
        "# Save and show figure\n",
        "plt.savefig('ShotChart.png', dpi=300, bbox_inches='tight')\n",
        "plt.show()"
      ],
      "metadata": {
        "colab": {
          "base_uri": "https://localhost:8080/",
          "height": 662
        },
        "id": "XP13t5FZ3HsE",
        "outputId": "ae224387-d10b-4e22-e6a6-6100f64dd26c"
      },
      "execution_count": null,
      "outputs": [
        {
          "output_type": "stream",
          "name": "stderr",
          "text": [
            "WARNING:matplotlib.font_manager:findfont: Font family 'Avenir' not found.\n",
            "WARNING:matplotlib.font_manager:findfont: Font family 'Avenir' not found.\n",
            "WARNING:matplotlib.font_manager:findfont: Font family 'Avenir' not found.\n",
            "WARNING:matplotlib.font_manager:findfont: Font family 'Avenir' not found.\n",
            "WARNING:matplotlib.font_manager:findfont: Font family 'Avenir' not found.\n",
            "WARNING:matplotlib.font_manager:findfont: Font family 'Avenir' not found.\n",
            "WARNING:matplotlib.font_manager:findfont: Font family 'Avenir' not found.\n",
            "WARNING:matplotlib.font_manager:findfont: Font family 'Avenir' not found.\n",
            "WARNING:matplotlib.font_manager:findfont: Font family 'Avenir' not found.\n",
            "WARNING:matplotlib.font_manager:findfont: Font family 'Avenir' not found.\n",
            "WARNING:matplotlib.font_manager:findfont: Font family 'Avenir' not found.\n",
            "WARNING:matplotlib.font_manager:findfont: Font family 'Avenir' not found.\n",
            "WARNING:matplotlib.font_manager:findfont: Font family 'Avenir' not found.\n",
            "WARNING:matplotlib.font_manager:findfont: Font family 'Avenir' not found.\n",
            "WARNING:matplotlib.font_manager:findfont: Font family 'Avenir' not found.\n",
            "WARNING:matplotlib.font_manager:findfont: Font family 'Avenir' not found.\n",
            "WARNING:matplotlib.font_manager:findfont: Font family 'Avenir' not found.\n",
            "WARNING:matplotlib.font_manager:findfont: Font family 'Avenir' not found.\n"
          ]
        },
        {
          "output_type": "display_data",
          "data": {
            "text/plain": [
              "<Figure size 288x270.72 with 1 Axes>"
            ],
            "image/png": "[encoded data removed]"
          },
          "metadata": {}
        }
      ]
    }
  ]
}